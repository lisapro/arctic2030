{
 "cells": [
  {
   "cell_type": "code",
   "execution_count": 1,
   "metadata": {
    "collapsed": true
   },
   "outputs": [],
   "source": [
    "import numpy as np\n",
    "import matplotlib.pyplot as plt\n",
    "plt.style.use('ggplot')\n",
    "\n",
    "# Calculate initial about of gas in the bubbles of given volume\n",
    "def get_mol_from_r(r,pres = 7.9,t=-1):\n",
    "\n",
    "    #A Pressure atm\n",
    "    Temp = t + 273.15 # Temprature °К\n",
    "    Rgas = 8.20575e-5  # R gas constant m3 atm K−1 mol−1 \n",
    "    r = r/1000 #  mm to m\n",
    "    vol = (4/3*np.pi*r**3) # Volume of bubble м^3\n",
    "    \n",
    "    gas_mol=1000*(pres*vol)/(Rgas*Temp) #[atm]*[m3]/([ m3 atm k-1 mol-1]*[k])\n",
    "    #conc = gas_mol / vol\n",
    "    return gas_mol #/vol "
   ]
  },
  {
   "cell_type": "code",
   "execution_count": 10,
   "metadata": {},
   "outputs": [
    {
     "name": "stdout",
     "output_type": "stream",
     "text": [
      "Base scenario: 0.379\n",
      "Small bubbles scenario: 0.379\n",
      "Reduced Flux: 0.285\n"
     ]
    }
   ],
   "source": [
    "# Bottom temperature in the chosen station is -1 most times in the year\n",
    "#Get the initial flux from the bubbles, mmol/m2/sec\n",
    "b1 = round(get_mol_from_r(4,t=-1)*4,3)\n",
    "f1 = round(get_mol_from_r(4,t=-1)*3,3)\n",
    "s1 = round(get_mol_from_r(2,t=-1)*32,3)\n",
    "\n",
    "print ('Base scenario:',b1)\n",
    "print ('Small bubbles scenario:',s1)\n",
    "print ('Reduced Flux:',f1)"
   ]
  },
  {
   "cell_type": "markdown",
   "metadata": {},
   "source": [
    "Equation (19) From Sander "
   ]
  },
  {
   "cell_type": "markdown",
   "metadata": {},
   "source": [
    "$K_H(T) = K_H^\\Theta*\\exp{(\\frac{dlnH^{cp}}{d(1/T)}\\cdot(\\frac{1}{T}-\\frac{1}{T^{\\Theta}}))}$"
   ]
  },
  {
   "cell_type": "code",
   "execution_count": 3,
   "metadata": {
    "collapsed": true
   },
   "outputs": [],
   "source": [
    "import numpy as np\n",
    "def get_kh_t(Kh_teta,coef,T):\n",
    "    kh_t = Kh_teta * np.exp((coef)*(1/T - 1/298.15)) #Mol/m3*Pa\n",
    "    kh_t_atm = kh_t* 1.e6 #Micromol/l*atm\n",
    "    return int(kh_t_atm)"
   ]
  },
  {
   "cell_type": "code",
   "execution_count": 4,
   "metadata": {},
   "outputs": [
    {
     "name": "stdout",
     "output_type": "stream",
     "text": [
      "0.00141855 Kh_teta M/atm\n",
      "2192.883 Kh corrected by Temperat\n"
     ]
    }
   ],
   "source": [
    "Values from the Table in Sander:\n",
    "Kh_theta = 1.4e-5 # mol/m3 Pa\n",
    "coef = 1900 #[K]\n",
    "Kh_theta =  Kh_theta * 101.325 #Convert to M/atm \n",
    "print (Kh_theta,'Kh_teta M/atm')\n",
    "#Correct by temperature, using (19)\n",
    "T = 0 + 273.15\n",
    "Kh_t_atm = get_kh_t(Kh_theta,coef,T)*0.863\n",
    "print (Kh_t_atm,'Kh corrected by Temperat')"
   ]
  },
  {
   "cell_type": "code",
   "execution_count": 27,
   "metadata": {},
   "outputs": [
    {
     "name": "stdout",
     "output_type": "stream",
     "text": [
      "0.8382278169108212 koef_salt\n"
     ]
    }
   ],
   "source": [
    "# Correction by salinity \n",
    "# Kh(sal) = kh*10**(-Sal[M]*Ksal) \n",
    " \n",
    "#Ksal value from Gros et al.2018 \n",
    "#Ksal = 0.127 L/Mole\n",
    "sal = 35\n",
    "koef_salt = 10**(-(sal/58)*0.127)\n",
    "print (koef_salt,'koef_salt')"
   ]
  },
  {
   "cell_type": "code",
   "execution_count": 28,
   "metadata": {},
   "outputs": [
    {
     "name": "stdout",
     "output_type": "stream",
     "text": [
      "          kh  c_t-1.5_salt  c_t0_salt  c_t1.5_salt    c_mean\n",
      "depths                                                      \n",
      "0       1418          2213       2129         2051   1952.75\n",
      "10      1418          4427       4259         4102   3551.50\n",
      "20      1418          6641       6389         6153   5150.25\n",
      "30      1418          8855       8519         8204   6749.00\n",
      "40      1418         11068      10649        10255   8347.50\n",
      "50      1418         13282      12779        12306   9946.25\n",
      "60      1418         15496      14909        14358  11545.25\n",
      "70      1418         17710      17039        16409  13144.00\n",
      "80      1418         19923      19169        18460  14742.50\n"
     ]
    }
   ],
   "source": [
    "pressures = range(1,10)\n",
    "depths = range(0,90,10)\n",
    "\n",
    "import pandas as pd\n",
    "df = pd.DataFrame()\n",
    "df['depths'] = depths\n",
    "df=df.set_index('depths')\n",
    "df['kh'] = [int(Kh_theta*1000000) for n in pressures]\n",
    "df['c_t-1.5_salt'] = [int(get_kh_t(Kh_theta,coef,(-1.5+273.15))*n*koef_salt) for n in pressures]\n",
    "#df['c_t-1.5_salt'] = df['c_t-1.5']*koef_salt\n",
    "df['c_t0_salt'] = [int(get_kh_t(Kh_theta,coef,(0+273.15))*n*koef_salt) for n in pressures]\n",
    "#df['c_t0_salt'] = df['c_t0']*koef_salt\n",
    "df['c_t1.5_salt'] = [int(get_kh_t(Kh_theta,coef,(1.5+273.15))*n*koef_salt) for n in pressures]\n",
    "df['c_mean'] = df.mean(axis = 1)\n",
    "\n",
    "\n",
    "print (df)"
   ]
  },
  {
   "cell_type": "markdown",
   "metadata": {},
   "source": [
    "Calculate the saturations solubility at different depths"
   ]
  }
 ],
 "metadata": {
  "kernelspec": {
   "display_name": "Python 3",
   "language": "python",
   "name": "python3"
  },
  "language_info": {
   "codemirror_mode": {
    "name": "ipython",
    "version": 3
   },
   "file_extension": ".py",
   "mimetype": "text/x-python",
   "name": "python",
   "nbconvert_exporter": "python",
   "pygments_lexer": "ipython3",
   "version": "3.6.3"
  }
 },
 "nbformat": 4,
 "nbformat_minor": 2
}
