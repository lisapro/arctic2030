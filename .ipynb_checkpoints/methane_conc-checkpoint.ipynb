{
 "cells": [
  {
   "cell_type": "code",
   "execution_count": 14,
   "metadata": {
    "collapsed": true
   },
   "outputs": [],
   "source": [
    "import numpy as np\n",
    "import matplotlib.pyplot as plt\n",
    "plt.style.use('ggplot')"
   ]
  },
  {
   "cell_type": "code",
   "execution_count": 15,
   "metadata": {
    "collapsed": true
   },
   "outputs": [],
   "source": [
    "def vol_mol_l_bub(r,pres):\n",
    "    t = 1\n",
    "    Pres = pres #7.5 #A Pressure atm\n",
    "    Temp = t + 273.15 # Temprature °К\n",
    "    Rgas = 8.20575e-5  # R gas constant m3 atm K−1 mol−1 \n",
    "    r = r/1000 #  mm to m\n",
    "    vol = (4/3*np.pi*r**3) # Volume of bubble м^3\n",
    "    \n",
    "    gas_mol=(Pres*vol)/(Rgas*Temp) #[atm]*[m3]/([ m3 atm k-1 mol-1]*[k])\n",
    "    conc = gas_mol / vol\n",
    "    return vol,gas_mol #/vol "
   ]
  },
  {
   "cell_type": "code",
   "execution_count": 16,
   "metadata": {
    "collapsed": true
   },
   "outputs": [],
   "source": [
    "depths = [3,8]\n",
    "rads = [5,1]\n",
    "\n",
    "vs_5mm,n_5mm = vol_mol_l_bub(5,8) #init, 100% \n",
    "vs_3mm,n_3mm = vol_mol_l_bub(3,6) #after floating, 75%\n",
    "vs_1mm,n_1mm = vol_mol_l_bub(1,4) #after floating, 50%\n",
    "vs_05mm,n_05mm = vol_mol_l_bub(0.5,1) #after floating, 10%\n",
    "\n",
    "conc_5mm = n_5mm/vs_5mm\n",
    "conc_3mm = 0.75*n_3mm/vs_3mm\n",
    "conc_1mm = 0.5*n_1mm/vs_1mm\n",
    "conc_05mm = 0.1*n_05mm/vs_05mm"
   ]
  },
  {
   "cell_type": "code",
   "execution_count": 17,
   "metadata": {},
   "outputs": [
    {
     "name": "stdout",
     "output_type": "stream",
     "text": [
      "(5.235987755982989e-07, 0.00018620102941615822) (4.188790204786391e-06, 0.0014896082353292657) (4.188790204786391e-09, 1.4896082353292656e-06)\n"
     ]
    }
   ],
   "source": [
    "print (vol_mol_l_bub(5,8), vol_mol_l_bub(10,8),vol_mol_l_bub(1,8))"
   ]
  },
  {
   "cell_type": "code",
   "execution_count": 18,
   "metadata": {
    "collapsed": true
   },
   "outputs": [],
   "source": [
    "c = [conc_5mm,conc_3mm,conc_1mm,conc_05mm]\n",
    "d = [8,6,4,1]"
   ]
  },
  {
   "cell_type": "code",
   "execution_count": 19,
   "metadata": {
    "scrolled": true
   },
   "outputs": [
    {
     "data": {
      "image/png": "[encoded data removed]",
      "text/plain": [
       "<matplotlib.figure.Figure at 0x25cda650ef0>"
      ]
     },
     "metadata": {},
     "output_type": "display_data"
    }
   ],
   "source": [
    "plt.plot(c,d,'o--',label= 'ch4 conc in moles/m3')\n",
    "\n",
    "plt.ylim(9,0.5)\n",
    "plt.xlim(0,370)\n",
    "plt.legend()\n",
    "plt.show()"
   ]
  },
  {
   "cell_type": "code",
   "execution_count": 20,
   "metadata": {},
   "outputs": [
    {
     "name": "stdout",
     "output_type": "stream",
     "text": [
      "355.6177708845718 88.90444272114297\n"
     ]
    }
   ],
   "source": [
    "print(conc_5mm, conc_1mm)"
   ]
  },
  {
   "cell_type": "code",
   "execution_count": 21,
   "metadata": {},
   "outputs": [
    {
     "name": "stdout",
     "output_type": "stream",
     "text": [
      "[355617.77088457 200034.99612257  88904.44272114   4445.22213606]\n",
      "4445.222136057149\n"
     ]
    }
   ],
   "source": [
    "cc = np.array(c)*1.e3 \n",
    "print (cc) \n",
    "print (min(cc))"
   ]
  },
  {
   "cell_type": "code",
   "execution_count": 22,
   "metadata": {},
   "outputs": [
    {
     "data": {
      "image/png": "[encoded data removed]",
      "text/plain": [
       "<matplotlib.figure.Figure at 0x25cdac0e208>"
      ]
     },
     "metadata": {},
     "output_type": "display_data"
    }
   ],
   "source": [
    "plt.plot(cc,d,'o--',label= 'ch4 conc in micromoles/l')\n",
    "\n",
    "plt.ylim(9,0.5)\n",
    "\n",
    "plt.legend()\n",
    "plt.show()"
   ]
  },
  {
   "cell_type": "markdown",
   "metadata": {},
   "source": [
    "Equation (19) From Sander "
   ]
  },
  {
   "cell_type": "markdown",
   "metadata": {},
   "source": [
    "$K_H(T) = K_H^\\Theta*\\exp{(\\frac{dlnH^{cp}}{d(1/T)}\\cdot(\\frac{1}{T}-\\frac{1}{T^{\\Theta}}))}$"
   ]
  },
  {
   "cell_type": "code",
   "execution_count": 23,
   "metadata": {
    "collapsed": true
   },
   "outputs": [],
   "source": [
    "def get_kh_t(Kh_teta,coef,T):\n",
    "    kh_t = Kh_teta * np.exp((coef)*(1/T - 1/298.15)) #Mol/m3*Pa\n",
    "    kh_t_atm = kh_t* 1.e6 #Micromol/l*atm\n",
    "    \n",
    "    return int(kh_t_atm)"
   ]
  },
  {
   "cell_type": "markdown",
   "metadata": {},
   "source": [
    "Values from the Table in Sander:"
   ]
  },
  {
   "cell_type": "code",
   "execution_count": 24,
   "metadata": {
    "collapsed": true
   },
   "outputs": [],
   "source": [
    "Kh_theta = 1.4e-5 # mol/m3 Pa\n",
    "coef = 1900 #[K]"
   ]
  },
  {
   "cell_type": "markdown",
   "metadata": {},
   "source": [
    "Convert to M/atm "
   ]
  },
  {
   "cell_type": "code",
   "execution_count": 25,
   "metadata": {},
   "outputs": [
    {
     "name": "stdout",
     "output_type": "stream",
     "text": [
      "0.00141855 Kh_teta M/atm\n"
     ]
    }
   ],
   "source": [
    "Kh_theta =  Kh_theta * 101.325 \n",
    "print (Kh_theta,'Kh_teta M/atm')"
   ]
  },
  {
   "cell_type": "markdown",
   "metadata": {},
   "source": [
    "Correct by temperature, using (19)"
   ]
  },
  {
   "cell_type": "code",
   "execution_count": 26,
   "metadata": {},
   "outputs": [
    {
     "name": "stdout",
     "output_type": "stream",
     "text": [
      "2192.883 Kh corrected by Temperat\n"
     ]
    }
   ],
   "source": [
    "T = 0 + 273.15\n",
    "Kh_t_atm = get_kh_t(Kh_theta,coef,T)*0.863\n",
    "print (Kh_t_atm,'Kh corrected by Temperat')"
   ]
  },
  {
   "cell_type": "code",
   "execution_count": 27,
   "metadata": {},
   "outputs": [
    {
     "name": "stdout",
     "output_type": "stream",
     "text": [
      "0.8382278169108212 koef_salt\n"
     ]
    }
   ],
   "source": [
    "# Correction by salinity \n",
    "# Kh(sal) = kh*10**(-Sal[M]*Ksal) \n",
    " \n",
    "#Ksal value from Gros et al.2018 \n",
    "#Ksal = 0.127 L/Mole\n",
    "sal = 35\n",
    "koef_salt = 10**(-(sal/58)*0.127)\n",
    "print (koef_salt,'koef_salt')"
   ]
  },
  {
   "cell_type": "code",
   "execution_count": 28,
   "metadata": {},
   "outputs": [
    {
     "name": "stdout",
     "output_type": "stream",
     "text": [
      "          kh  c_t-1.5_salt  c_t0_salt  c_t1.5_salt    c_mean\n",
      "depths                                                      \n",
      "0       1418          2213       2129         2051   1952.75\n",
      "10      1418          4427       4259         4102   3551.50\n",
      "20      1418          6641       6389         6153   5150.25\n",
      "30      1418          8855       8519         8204   6749.00\n",
      "40      1418         11068      10649        10255   8347.50\n",
      "50      1418         13282      12779        12306   9946.25\n",
      "60      1418         15496      14909        14358  11545.25\n",
      "70      1418         17710      17039        16409  13144.00\n",
      "80      1418         19923      19169        18460  14742.50\n"
     ]
    }
   ],
   "source": [
    "pressures = range(1,10)\n",
    "depths = range(0,90,10)\n",
    "\n",
    "import pandas as pd\n",
    "df = pd.DataFrame()\n",
    "df['depths'] = depths\n",
    "df=df.set_index('depths')\n",
    "df['kh'] = [int(Kh_theta*1000000) for n in pressures]\n",
    "df['c_t-1.5_salt'] = [int(get_kh_t(Kh_theta,coef,(-1.5+273.15))*n*koef_salt) for n in pressures]\n",
    "#df['c_t-1.5_salt'] = df['c_t-1.5']*koef_salt\n",
    "df['c_t0_salt'] = [int(get_kh_t(Kh_theta,coef,(0+273.15))*n*koef_salt) for n in pressures]\n",
    "#df['c_t0_salt'] = df['c_t0']*koef_salt\n",
    "df['c_t1.5_salt'] = [int(get_kh_t(Kh_theta,coef,(1.5+273.15))*n*koef_salt) for n in pressures]\n",
    "df['c_mean'] = df.mean(axis = 1)\n",
    "\n",
    "\n",
    "print (df)"
   ]
  },
  {
   "cell_type": "markdown",
   "metadata": {},
   "source": [
    "Calculate the saturations solubility at different depths"
   ]
  },
  {
   "cell_type": "code",
   "execution_count": null,
   "metadata": {
    "collapsed": true
   },
   "outputs": [],
   "source": []
  },
  {
   "cell_type": "code",
   "execution_count": null,
   "metadata": {
    "collapsed": true
   },
   "outputs": [],
   "source": []
  },
  {
   "cell_type": "code",
   "execution_count": null,
   "metadata": {
    "collapsed": true
   },
   "outputs": [],
   "source": []
  },
  {
   "cell_type": "code",
   "execution_count": null,
   "metadata": {
    "collapsed": true
   },
   "outputs": [],
   "source": []
  },
  {
   "cell_type": "code",
   "execution_count": null,
   "metadata": {
    "collapsed": true
   },
   "outputs": [],
   "source": []
  },
  {
   "cell_type": "code",
   "execution_count": null,
   "metadata": {
    "collapsed": true
   },
   "outputs": [],
   "source": []
  }
 ],
 "metadata": {
  "kernelspec": {
   "display_name": "Python 3",
   "language": "python",
   "name": "python3"
  },
  "language_info": {
   "codemirror_mode": {
    "name": "ipython",
    "version": 3
   },
   "file_extension": ".py",
   "mimetype": "text/x-python",
   "name": "python",
   "nbconvert_exporter": "python",
   "pygments_lexer": "ipython3",
   "version": "3.6.3"
  }
 },
 "nbformat": 4,
 "nbformat_minor": 2
}
